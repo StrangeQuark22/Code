{
 "cells": [
  {
   "cell_type": "markdown",
   "metadata": {},
   "source": [
    "# Imports\n",
    "### Plotting"
   ]
  },
  {
   "cell_type": "code",
   "execution_count": null,
   "metadata": {},
   "outputs": [],
   "source": [
    "import matplotlib.pyplot as plt\n",
    "import matplotlib\n",
    "import numpy as np\n",
    "import pandas as pd"
   ]
  },
  {
   "cell_type": "markdown",
   "metadata": {},
   "source": [
    "### Symbolic Math"
   ]
  },
  {
   "cell_type": "code",
   "execution_count": 4,
   "metadata": {},
   "outputs": [],
   "source": [
    "import numpy as np\n",
    "import sympy as sp\n",
    "import math"
   ]
  },
  {
   "cell_type": "markdown",
   "metadata": {},
   "source": [
    "## Cosinussatsen - Text\n",
    "Vanlig symbolisk lösare för cosinussatsen"
   ]
  },
  {
   "cell_type": "code",
   "execution_count": 32,
   "metadata": {
    "tags": []
   },
   "outputs": [
    {
     "name": "stdout",
     "output_type": "stream",
     "text": [
      "Uttryck för b:\n",
      "                 _____________________________\n",
      "       ⎛π⎞      ╱                 2⎛π⎞        \n",
      "5.0⋅cos⎜─⎟ +   ╱  -25.0 + 25.0⋅cos ⎜─⎟ + 25.0 \n",
      "       ⎝3⎠   ╲╱                    ⎝3⎠        \n",
      "b ≈ 5.00000000000000\n"
     ]
    }
   ],
   "source": [
    "import numpy as np\n",
    "import sympy as sp\n",
    "import math\n",
    "\n",
    "find = input(\"Sökt variabel (a, b, c eller v): \")\n",
    "\n",
    "x = sp.symbols(\"x\", real=True)\n",
    "try:\n",
    "    a = float(input(\"Värde för a: \")) if find != \"a\" else None\n",
    "    b = float(input(\"Värde för b: \")) if find != \"b\" else None\n",
    "    c = float(input(\"Värde för c: \")) if find != \"c\" else None\n",
    "    with sp.evaluate(False):\n",
    "        v = sp.Rational(input(\"Värde för v: \"),180) * sp.pi if find != \"v\" else None\n",
    "except ValueError:\n",
    "    raise TypeError(\"Invalid input, cannot parse\")\n",
    "\n",
    "for val in [a, b, c, v]:\n",
    "    if val == None:\n",
    "        del val\n",
    "\n",
    "\n",
    "if find == \"a\":\n",
    "    with sp.evaluate(False):\n",
    "        solutions = [\n",
    "                b * sp.cos(v) - sp.sqrt((b**2) * ((sp.cos(v)) ** 2) - b**2 + c**2), # type:ignore \n",
    "                b * sp.cos(v) + sp.sqrt((b**2) * ((sp.cos(v)) ** 2) - b**2 + c**2) # type:ignore \n",
    "        ]\n",
    "    for solution in solutions:\n",
    "        if sp.N(solution) > 10**-12:\n",
    "            with sp.evaluate(False):\n",
    "                print(f\"Uttryck för {find}:\")\n",
    "                sp.pprint(solution)\n",
    "            print(f\"a ≈ {sp.N(solution)}\")\n",
    "elif find == \"b\":\n",
    "    with sp.evaluate(False):\n",
    "        solutions = [\n",
    "                a * sp.cos(v) - sp.sqrt((a**2) * ((sp.cos(v)) ** 2) - a**2 + c**2), # type:ignore  \n",
    "                a * sp.cos(v) + sp.sqrt((a**2) * ((sp.cos(v)) ** 2) - a**2 + c**2) # type:ignore  \n",
    "        ]\n",
    "    for solution in solutions:\n",
    "        if (sp.N(solution)) > 10**-12:\n",
    "            with sp.evaluate(False):\n",
    "                print(f\"Uttryck för {find}:\")\n",
    "                sp.pprint(solution)\n",
    "            print(f\"b ≈ {sp.N(solution)}\")\n",
    "elif find == \"c\":\n",
    "    with sp.evaluate(False):\n",
    "        solution = sp.sqrt(-2 * a * b * sp.cos(v) + a**2 + b**2) # type: ignore\n",
    "        if solution > 10**-12:\n",
    "            print(f\"Uttryck för {find}:\")\n",
    "            sp.pprint(solution)\n",
    "    \n",
    "    if solution > 10**-12:\n",
    "        print(f\"c ≈ {sp.N(solution)}\")\n",
    "    else:\n",
    "        raise ArithmeticError(\"No solution > 0\")\n",
    "elif find == \"v\":\n",
    "    with sp.evaluate(False):\n",
    "        solution = sp.trigsimp(sp.acos((a**2 + b**2 - c**2) / (2 * a * b)))  # type: ignore\n",
    "    print(f\"Uttryck för {find} i radianer:\")\n",
    "    sp.pprint(solution)\n",
    "    print(\n",
    "        f\"v ≈ {sp.Float(sp.N(solution), 4)} rad ≈\", *[sp.Float(value, 4) for value in sp.solve(sp.Rational(1,360)*x-solution*((2*sp.pi)**-1))], \"grader\"\n",
    "    )\n",
    "else:\n",
    "    raise ValueError(\"Finding specified variable not possible\")"
   ]
  },
  {
   "cell_type": "markdown",
   "metadata": {},
   "source": [
    "## Cosinussatsen - GUI\n",
    "En GUI baserad lösare för cosinussatsen i Tcl/Tk med symbolisk precision"
   ]
  },
  {
   "cell_type": "code",
   "execution_count": 2,
   "metadata": {},
   "outputs": [],
   "source": [
    "import tkinter as tk\n",
    "\n",
    "root = tk.Tk()\n",
    "\n",
    "\n",
    "\n",
    "root.mainloop()"
   ]
  },
  {
   "cell_type": "code",
   "execution_count": 1,
   "metadata": {},
   "outputs": [
    {
     "name": "stdout",
     "output_type": "stream",
     "text": [
      "1.861283779144287\n"
     ]
    },
    {
     "data": {
      "image/png": "[encoded data removed]",
      "text/plain": [
       "<Figure size 640x480 with 1 Axes>"
      ]
     },
     "metadata": {},
     "output_type": "display_data"
    }
   ],
   "source": [
    "#pick 1 - 100\n",
    "#5 players\n",
    "#avg numbers * 0.8\n",
    "\n",
    "import time\n",
    "import random as rand\n",
    "import math\n",
    "import matplotlib.pyplot as plt\n",
    "\n",
    "def getNums() -> list[int]:\n",
    "    nums: list[int] = []\n",
    "    for _ in range(5):\n",
    "        nums.append(rand.randint(1,100))\n",
    "    return nums\n",
    "\n",
    "results: list[float] = []\n",
    "\n",
    "start = time.time()\n",
    "for _ in range(500_000):\n",
    "    results.append((sum(getNums())/5)*0.8)\n",
    "\n",
    "print(time.time()-start)\n",
    "# for i in range(1,101):\n",
    "#     for j in range(1,101):\n",
    "#         for k in range(1,101):\n",
    "#             for l in range(1,101):\n",
    "#                 for m in range(1,101):\n",
    "#                     results.append((sum((i,j,k,l,m))/5)*0.8)\n",
    "\n",
    "plt.hist(results)\n",
    "plt.show()"
   ]
  }
 ],
 "metadata": {
  "kernelspec": {
   "display_name": "Python 3",
   "language": "python",
   "name": "python3"
  },
  "language_info": {
   "codemirror_mode": {
    "name": "ipython",
    "version": 3
   },
   "file_extension": ".py",
   "mimetype": "text/x-python",
   "name": "python",
   "nbconvert_exporter": "python",
   "pygments_lexer": "ipython3",
   "version": "3.10.8"
  },
  "orig_nbformat": 4,
  "vscode": {
   "interpreter": {
    "hash": "26de051ba29f2982a8de78e945f0abaf191376122a1563185a90213a26c5da77"
   }
  }
 },
 "nbformat": 4,
 "nbformat_minor": 2
}
